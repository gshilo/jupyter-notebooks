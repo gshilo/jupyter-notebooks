{
 "cells": [
  {
   "cell_type": "code",
   "execution_count": 1,
   "source": [
    "def get_spark_ui_url(spark_context):\n",
    "    from kubernetes import config\n",
    "    from openshift.dynamic import DynamicClient\n",
    "    import socket\n",
    "\n",
    "\n",
    "    namespace = None\n",
    "    with open('/var/run/secrets/kubernetes.io/serviceaccount/namespace') as file:\n",
    "        namespace = file.read()\n",
    "\n",
    "    k8s_client = config.new_client_from_config()\n",
    "    dyn_client = DynamicClient(k8s_client)\n",
    "    routes = dyn_client.resources.get(api_version='route.openshift.io/v1', kind='Route')\n",
    "    jupyter_hub_route = routes.get(namespace=namespace)['items'][0]['spec']['host']\n",
    "\n",
    "    return f\"https://{jupyter_hub_route}/user/{socket.gethostname().split('-nb-')[-1]}/proxy/{spark_context.uiWebUrl.split(':')[-1]}/jobs/\""
   ],
   "outputs": [],
   "metadata": {}
  },
  {
   "cell_type": "code",
   "execution_count": null,
   "source": [
    "def get_driver_dns():\n",
    "    import os\n",
    "\n",
    "    namespace = None\n",
    "    with open('/var/run/secrets/kubernetes.io/serviceaccount/namespace') as file:\n",
    "        namespace = file.read()\n",
    "\n",
    "    return f\"{os.environ['HOSTNAME']}-headless-service.{namespace}.svc.cluster.local\""
   ],
   "outputs": [],
   "metadata": {}
  },
  {
   "cell_type": "code",
   "execution_count": 2,
   "source": [
    "def initialize_pyspark_context(context_purpose: str, user_name: str):\n",
    "    import pyspark\n",
    "    import os\n",
    "\n",
    "    conf = pyspark.SparkConf()\n",
    "    conf.set('spark.master',\n",
    "             f\"k8s://https://{os.environ['KUBERNETES_SERVICE_HOST']}:{os.environ['KUBERNETES_SERVICE_PORT']}\")\n",
    "    conf.setAppName(context_purpose)\n",
    "    conf.set('spark.driver.host', get_driver_dns())\n",
    "    conf.set('spark.kubernetes.container.image', 'gcr.io/spark-operator/spark-py:v3.1.1')\n",
    "    conf.set('spark.ui.port', '4040')\n",
    "    conf.set('spark.kubernetes.namespace', 'jupyterhub')\n",
    "    \n",
    "    conf.set('spark.kubernetes.executor.label.username', user_name)\n",
    "    \n",
    "    # Authentication\n",
    "    conf.set('spark.kubernetes.authenticate.caCertFile', '/var/run/secrets/kubernetes.io/serviceaccount/ca.crt')\n",
    "    conf.set('spark.kubernetes.authenticate.clientCertFile', '/var/run/secrets/kubernetes.io/serviceaccount/service-ca.crt')\n",
    "    conf.set('spark.kubernetes.authenticate.oauthToken', os.environ['OPENSHIFT_TOKEN'])\n",
    "    \n",
    "    # Resources\n",
    "    conf.set('spark.executor.instances', '2')\n",
    "    conf.set('spark.kubernetes.executor.request.cores', '500m')\n",
    "    conf.set('spark.kubernetes.executor.limit.cores', '3')\n",
    "    \n",
    "    spark_context = pyspark.SparkContext(conf=conf)\n",
    "    \n",
    "    print(\"Spark UI: \" + get_spark_ui_url(spark_context))\n",
    "    \n",
    "    return spark_context\n",
    "\n",
    "\n",
    "sc = initialize_pyspark_context('testy_test', 'my_user')"
   ],
   "outputs": [
    {
     "output_type": "stream",
     "name": "stderr",
     "text": [
      "WARNING: An illegal reflective access operation has occurred\n",
      "WARNING: Illegal reflective access by org.apache.spark.unsafe.Platform (file:/usr/local/spark-3.1.2-bin-hadoop3.2/jars/spark-unsafe_2.12-3.1.2.jar) to constructor java.nio.DirectByteBuffer(long,int)\n",
      "WARNING: Please consider reporting this to the maintainers of org.apache.spark.unsafe.Platform\n",
      "WARNING: Use --illegal-access=warn to enable warnings of further illegal reflective access operations\n",
      "WARNING: All illegal access operations will be denied in a future release\n",
      "21/07/21 18:35:44 WARN NativeCodeLoader: Unable to load native-hadoop library for your platform... using builtin-java classes where applicable\n",
      "Using Spark's default log4j profile: org/apache/spark/log4j-defaults.properties\n",
      "Setting default log level to \"WARN\".\n",
      "To adjust logging level use sc.setLogLevel(newLevel). For SparkR, use setLogLevel(newLevel).\n"
     ]
    },
    {
     "output_type": "stream",
     "name": "stdout",
     "text": [
      "Spark UI: https://jupyterhub-jupyterhub.apps.tk2s6gya.eastus.aroapp.io/user/kube-3aadmin/proxy/4040/jobs/\n"
     ]
    }
   ],
   "metadata": {
    "scrolled": true
   }
  },
  {
   "cell_type": "code",
   "execution_count": null,
   "source": [
    "# Create a distributed data set to test the session.\n",
    "t = sc.parallelize(range(10))\n",
    "\n",
    "# Calculate the approximate sum of values in the dataset\n",
    "r = t.sumApprox(3)\n",
    "print('Approximate sum: %s' % r)"
   ],
   "outputs": [
    {
     "output_type": "stream",
     "name": "stderr",
     "text": [
      "21/07/21 18:36:35 WARN TaskSchedulerImpl: Initial job has not accepted any resources; check your cluster UI to ensure that workers are registered and have sufficient resources\n",
      "21/07/21 18:36:50 WARN TaskSchedulerImpl: Initial job has not accepted any resources; check your cluster UI to ensure that workers are registered and have sufficient resources\n",
      "21/07/21 18:37:05 WARN TaskSchedulerImpl: Initial job has not accepted any resources; check your cluster UI to ensure that workers are registered and have sufficient resources\n",
      "21/07/21 18:37:20 WARN TaskSchedulerImpl: Initial job has not accepted any resources; check your cluster UI to ensure that workers are registered and have sufficient resources\n",
      "[Stage 0:>                                                          (0 + 2) / 2]\r"
     ]
    }
   ],
   "metadata": {}
  },
  {
   "cell_type": "code",
   "execution_count": null,
   "source": [],
   "outputs": [],
   "metadata": {
    "collapsed": true
   }
  }
 ],
 "metadata": {
  "kernelspec": {
   "display_name": "Python 3 (ipykernel)",
   "language": "python",
   "name": "python3"
  },
  "language_info": {
   "codemirror_mode": {
    "name": "ipython",
    "version": 3
   },
   "file_extension": ".py",
   "mimetype": "text/x-python",
   "name": "python",
   "nbconvert_exporter": "python",
   "pygments_lexer": "ipython3",
   "version": "3.8.6"
  }
 },
 "nbformat": 4,
 "nbformat_minor": 5
}